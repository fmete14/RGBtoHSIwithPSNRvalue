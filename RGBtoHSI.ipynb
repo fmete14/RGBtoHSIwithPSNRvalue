{
 "cells": [
  {
   "cell_type": "code",
   "execution_count": 22,
   "id": "2d93d2d2",
   "metadata": {},
   "outputs": [],
   "source": [
    "import cv2\n",
    "import numpy as np\n",
    "import math\n",
    "from math import log10 , sqrt"
   ]
  },
  {
   "cell_type": "code",
   "execution_count": 23,
   "id": "04fce620",
   "metadata": {},
   "outputs": [],
   "source": [
    "def rgbtohsi(Img):\n",
    "    row = int(Img.shape[0])\n",
    "    col = int(Img.shape[1])\n",
    "    b, g, r = cv2.split(Img)\n",
    "    b = b / 255.0\n",
    "    g = g / 255.0\n",
    "    r = r / 255.0\n",
    "    hsi_Img = Img.copy()\n",
    "    H, S, I = cv2.split(hsi_Img)\n",
    "    for i in range(row):\n",
    "        for j in range(col):\n",
    "            num = 0.5 * ((r[i, j]-g[i, j])+(r[i, j]-b[i, j]))\n",
    "            den = np.sqrt((r[i, j]-g[i, j])**2+(r[i, j]-b[i, j])*(g[i, j]-b[i, j]))\n",
    "            theta = float(np.arccos(num/(den+0.000001)))\n",
    "            \n",
    "            if den == 0:\n",
    "                    H = 0\n",
    "            elif b[i, j] <= g[i, j]:\n",
    "                H = theta\n",
    "            else:\n",
    "                H = 2*3.14169265 - theta\n",
    "\n",
    "            min_RGB = min(min(b[i, j], g[i, j]), r[i, j])\n",
    "            sum = b[i, j]+g[i, j]+r[i, j]\n",
    "            if sum == 0:\n",
    "                S = 0\n",
    "            else:\n",
    "                S = 1 - 3*min_RGB/sum\n",
    "\n",
    "            H = H/(2*3.14159265)\n",
    "            I = sum/3.0\n",
    "            hsi_Img[i, j, 0] = H*255\n",
    "            hsi_Img[i, j, 1] = S*255\n",
    "            hsi_Img[i, j, 2] = I*255\n",
    "    return hsi_Img\n"
   ]
  },
  {
   "cell_type": "code",
   "execution_count": 24,
   "id": "cbeec888",
   "metadata": {},
   "outputs": [
    {
     "data": {
      "text/plain": [
       "True"
      ]
     },
     "execution_count": 24,
     "metadata": {},
     "output_type": "execute_result"
    }
   ],
   "source": [
    "img = cv2.imread('mandrill.ppm')\n",
    "out =  rgbtohsi(img)\n",
    "cv2.imwrite('hsi.png',out)"
   ]
  },
  {
   "cell_type": "code",
   "execution_count": 25,
   "id": "cacd8813",
   "metadata": {},
   "outputs": [],
   "source": [
    "def PSNR(original, converted):\n",
    "    mse = np.mean((original - converted) ** 2)\n",
    "    max_pixel = 255.0\n",
    "    psnr = 20 * log10(max_pixel / sqrt(mse))\n",
    "    return psnr"
   ]
  },
  {
   "cell_type": "code",
   "execution_count": 27,
   "id": "99820028",
   "metadata": {},
   "outputs": [
    {
     "name": "stdout",
     "output_type": "stream",
     "text": [
      "PSNR value between RGB and HSI is 28.129551764213087 dB\n"
     ]
    }
   ],
   "source": [
    "value = PSNR(img, out)\n",
    "print(f\"PSNR value between RGB and HSI is {value} dB\")"
   ]
  },
  {
   "cell_type": "code",
   "execution_count": null,
   "id": "0cc20260",
   "metadata": {},
   "outputs": [],
   "source": []
  }
 ],
 "metadata": {
  "kernelspec": {
   "display_name": "Python 3 (ipykernel)",
   "language": "python",
   "name": "python3"
  },
  "language_info": {
   "codemirror_mode": {
    "name": "ipython",
    "version": 3
   },
   "file_extension": ".py",
   "mimetype": "text/x-python",
   "name": "python",
   "nbconvert_exporter": "python",
   "pygments_lexer": "ipython3",
   "version": "3.9.7"
  }
 },
 "nbformat": 4,
 "nbformat_minor": 5
}
